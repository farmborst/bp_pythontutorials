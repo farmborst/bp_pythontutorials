{
 "cells": [
  {
   "cell_type": "markdown",
   "metadata": {},
   "source": [
    "## Python for scientific computing\n",
    "Python is a general purpose programming language. It is interpreted and dynamically typed and is very suited for interactive work and quick prototyping. Its very rich computing libraries make it also very suitable for scientific usage.\n",
    "\n",
    "### The essential packages for scientific computing\n",
    "- NumPy: multi-dimensional array and matrix operations\n",
    "- Matplotlib: a mature and popular plotting, which works well with Numpy\n",
    "- scipy: numerical algorithms, signal processing, optimization and statistics\n",
    "- pandas: data structures and data analysis tools \n",
    "- jupyter: services for interactive computing, web-based sharing of code, graphs, annotations and results\n",
    "- SymPy: symbolic mathematics and computer algebra\n",
    "- scikit-learn: collection of algorithms and tools for machine learning"
   ]
  },
  {
   "cell_type": "markdown",
   "metadata": {},
   "source": [
    "## A simple plot with Matplotlib"
   ]
  },
  {
   "cell_type": "code",
   "execution_count": 1,
   "metadata": {},
   "outputs": [],
   "source": [
    "import numpy as np\n",
    "import matplotlib.pyplot as plt"
   ]
  },
  {
   "cell_type": "markdown",
   "metadata": {},
   "source": [
    "### Exercise\n",
    "1. Create an array $x$ with 100 points from $0$ to $2 \\pi$ with `np.linspace`.\n",
    "2. Calculate the sinus and cosinus for each $x$-position."
   ]
  },
  {
   "cell_type": "code",
   "execution_count": 2,
   "metadata": {},
   "outputs": [],
   "source": [
    "# x = \n",
    "# sinus =\n",
    "# cosinus = "
   ]
  },
  {
   "cell_type": "markdown",
   "metadata": {},
   "source": [
    "### Exercise\n",
    "3. Create a figure and two subplots with `plt.subplots`.\n",
    "4. Plot sinus and cosinus along $x$.\n",
    "5. Show the figure with `plt.show()`."
   ]
  },
  {
   "cell_type": "code",
   "execution_count": null,
   "metadata": {},
   "outputs": [],
   "source": [
    "# fig, (ax1, ax2) = \n",
    "# ax1.plot(\n",
    "# ax2.plot("
   ]
  },
  {
   "cell_type": "markdown",
   "metadata": {},
   "source": [
    "### Exercise\n",
    "6. Set x and y labels with `ax.set`.\n",
    "7. Set the x limits from $0$ to $2 \\pi$ with `ax.set_xlim(start, end)`.\n",
    "8. Show the final plot!"
   ]
  },
  {
   "cell_type": "code",
   "execution_count": null,
   "metadata": {},
   "outputs": [],
   "source": []
  },
  {
   "cell_type": "markdown",
   "metadata": {},
   "source": [
    "# Solution"
   ]
  },
  {
   "cell_type": "code",
   "execution_count": 6,
   "metadata": {},
   "outputs": [
    {
     "data": {
      "image/png": "[encoded data removed]",
      "text/plain": [
       "<Figure size 432x288 with 2 Axes>"
      ]
     },
     "metadata": {
      "needs_background": "light"
     },
     "output_type": "display_data"
    }
   ],
   "source": [
    "# create array \n",
    "x = np.linspace(0.0, 2 * np.pi, 100)\n",
    "sinus = np.sin(x)\n",
    "cosinus = np.cos(x)\n",
    "\n",
    "# create figure and subplots\n",
    "fig, (ax1, ax2) = plt.subplots(2)\n",
    "ax1.plot(x, sinus)\n",
    "ax2.plot(x, cosinus)\n",
    "\n",
    "# set labels and limits\n",
    "ax1.set(xlabel=\"$x$\", ylabel=\"$\\sin(x)$\")\n",
    "ax2.set(xlabel=\"$x$\", ylabel=\"$\\cos(x)$\")\n",
    "ax1.set_xlim(x[0], x[-1])\n",
    "ax2.set_xlim(x[0], x[-1])\n",
    "plt.tight_layout()\n",
    "\n",
    "# show plot\n",
    "plt.show()"
   ]
  }
 ],
 "metadata": {
  "kernelspec": {
   "display_name": "Python 3",
   "language": "python",
   "name": "python3"
  },
  "language_info": {
   "codemirror_mode": {
    "name": "ipython",
    "version": 3
   },
   "file_extension": ".py",
   "mimetype": "text/x-python",
   "name": "python",
   "nbconvert_exporter": "python",
   "pygments_lexer": "ipython3",
   "version": "3.7.1"
  }
 },
 "nbformat": 4,
 "nbformat_minor": 2
}
