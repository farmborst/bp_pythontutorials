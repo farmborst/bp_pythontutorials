{
 "cells": [
  {
   "cell_type": "markdown",
   "metadata": {},
   "source": [
    "# Common Gotchas!"
   ]
  },
  {
   "cell_type": "markdown",
   "metadata": {},
   "source": [
    "## Mutable objects"
   ]
  },
  {
   "cell_type": "code",
   "execution_count": 1,
   "metadata": {
    "pycharm": {}
   },
   "outputs": [],
   "source": [
    "def fun(x):\n",
    "    x += 1"
   ]
  },
  {
   "cell_type": "code",
   "execution_count": 2,
   "metadata": {
    "pycharm": {}
   },
   "outputs": [
    {
     "name": "stdout",
     "output_type": "stream",
     "text": [
      "Before function call\n",
      "a: 1 type: <class 'int'>\n",
      "b: 1 type: <class 'numpy.ndarray'>\n",
      "\n",
      "After function call\n",
      "a: 1 type: <class 'int'>\n",
      "b: 2 type: <class 'numpy.ndarray'>\n"
     ]
    }
   ],
   "source": [
    "import numpy as np\n",
    "\n",
    "a = int(1)       # immutable\n",
    "b = np.array(1)  # mutable\n",
    "\n",
    "print('Before function call')\n",
    "print('a:', a, 'type:', type(a)) \n",
    "print('b:', b, 'type:', type(b))\n",
    "\n",
    "fun(a)\n",
    "fun(b)\n",
    "\n",
    "print('\\nAfter function call')\n",
    "print('a:', a, 'type:', type(a)) \n",
    "print('b:', b, 'type:', type(b))\n"
   ]
  },
  {
   "cell_type": "markdown",
   "metadata": {},
   "source": [
    "## Mutable default arguments"
   ]
  },
  {
   "cell_type": "markdown",
   "metadata": {},
   "source": [
    "In 99% of cases you don't want your default values to be mutable!"
   ]
  },
  {
   "cell_type": "code",
   "execution_count": 3,
   "metadata": {},
   "outputs": [],
   "source": [
    "def append_to(element, lst=[]):\n",
    "    lst.append(element)\n",
    "    return lst"
   ]
  },
  {
   "cell_type": "code",
   "execution_count": 4,
   "metadata": {},
   "outputs": [
    {
     "name": "stdout",
     "output_type": "stream",
     "text": [
      "[12]\n",
      "[12, 42]\n"
     ]
    }
   ],
   "source": [
    "my_list = append_to(12)\n",
    "print(my_list)\n",
    "\n",
    "my_other_list = append_to(42)\n",
    "print(my_other_list)"
   ]
  },
  {
   "cell_type": "markdown",
   "metadata": {},
   "source": [
    "To prevent this behaviour use:"
   ]
  },
  {
   "cell_type": "code",
   "execution_count": 5,
   "metadata": {},
   "outputs": [],
   "source": [
    "def append_to_immutable(element, lst=None):\n",
    "    lst = [] if lst is None else lst\n",
    "    lst.append(element)\n",
    "    return lst"
   ]
  },
  {
   "cell_type": "code",
   "execution_count": 6,
   "metadata": {},
   "outputs": [
    {
     "name": "stdout",
     "output_type": "stream",
     "text": [
      "[12]\n",
      "[42]\n"
     ]
    }
   ],
   "source": [
    "my_list = append_to_immutable(12)\n",
    "print(my_list)\n",
    "\n",
    "my_other_list = append_to_immutable(42)\n",
    "print(my_other_list)"
   ]
  },
  {
   "cell_type": "markdown",
   "metadata": {},
   "source": [
    "## `__iadd__` vs `__add__`\n",
    "\n",
    "`x += 1` is not always the same as `x = x + 1`\n",
    "\n",
    "The `__iadd__` special method is for an in-place addition, that is it mutates the object that it acts on. \n",
    "\n",
    "The `__add__` special method returns a new object and is also used for the standard + operator.\n",
    "\n",
    "Explanation: [StackOverflow](https://stackoverflow.com/questions/2347265/why-does-behave-unexpectedly-on-lists?noredirect=1&lq=1)"
   ]
  },
  {
   "cell_type": "code",
   "execution_count": 7,
   "metadata": {},
   "outputs": [
    {
     "name": "stdout",
     "output_type": "stream",
     "text": [
      "[1, 2, 3]\n",
      "[1, 2]\n"
     ]
    }
   ],
   "source": [
    "a1 = a2 = [1, 2]\n",
    "b1 = b2 = [1, 2]\n",
    "a1 += [3]          # Uses __iadd__, modifies a1 in-place\n",
    "b1 = b1 + [3]      # Uses __add__, creates new list, assigns it to b1\n",
    "print(a2)          # a1 and a2 are still the same list\n",
    "print(b2)          # whereas only b1 was changed"
   ]
  },
  {
   "cell_type": "markdown",
   "metadata": {},
   "source": [
    "## Changing mutable attributes of objects\n",
    "Be careful when changing mutable attributes!"
   ]
  },
  {
   "cell_type": "code",
   "execution_count": 8,
   "metadata": {
    "pycharm": {}
   },
   "outputs": [
    {
     "name": "stdout",
     "output_type": "stream",
     "text": [
      "Changing attribute not in place.\n",
      "dummy.attr: [1]\n",
      "attr: []\n",
      "\n",
      "Changing attribute in place.\n",
      "dummy.attr: [1]\n",
      "attr: [1]\n"
     ]
    }
   ],
   "source": [
    "class DummyClass:\n",
    "    pass\n",
    "\n",
    "print(\"Changing attribute not in place.\")\n",
    "dummy = DummyClass()\n",
    "dummy.attr = list()\n",
    "attr = dummy.attr # will create a new reference to dummy.attr\n",
    "dummy.attr = dummy.attr + [1] # this will create a new object!\n",
    "print(\"dummy.attr:\", dummy.attr)\n",
    "print(\"attr:\", attr)\n",
    "\n",
    "print(\"\\nChanging attribute in place.\")\n",
    "dummy = DummyClass()\n",
    "dummy.attr = list()\n",
    "attr = dummy.attr # will create a new reference to dummy.attr\n",
    "dummy.attr.extend([1]) # this will extend the initial object!\n",
    "print(\"dummy.attr:\", dummy.attr)\n",
    "print(\"attr:\", attr)"
   ]
  }
 ],
 "metadata": {
  "kernelspec": {
   "display_name": "Python 3",
   "language": "python",
   "name": "python3"
  },
  "language_info": {
   "codemirror_mode": {
    "name": "ipython",
    "version": 3
   },
   "file_extension": ".py",
   "mimetype": "text/x-python",
   "name": "python",
   "nbconvert_exporter": "python",
   "pygments_lexer": "ipython3",
   "version": "3.7.1"
  }
 },
 "nbformat": 4,
 "nbformat_minor": 2
}
