{
 "cells": [
  {
   "cell_type": "markdown",
   "metadata": {},
   "source": [
    "# Threading"
   ]
  },
  {
   "cell_type": "code",
   "execution_count": 1,
   "metadata": {},
   "outputs": [],
   "source": [
    "import threading\n",
    "import time\n",
    "\n",
    "def thread_func(num1, num2):\n",
    "    print(f\"Thread: starting ...\")\n",
    "    time.sleep(1)  # simulate expensive calculation\n",
    "    print(f\"Thread: Result of {num1} + {num2} is {num1 + num2}\")\n",
    "    print(f\"Thread: finished ...\")"
   ]
  },
  {
   "cell_type": "code",
   "execution_count": 2,
   "metadata": {},
   "outputs": [
    {
     "name": "stdout",
     "output_type": "stream",
     "text": [
      "Main: launch Thread\n",
      "Thread: starting ...\n",
      "Main: finished\n",
      "Thread: Result of 1 + 2 is 3\n",
      "Thread: finished ...\n"
     ]
    }
   ],
   "source": [
    "thread = threading.Thread(target=thread_func, args=(1, 2))\n",
    "# thread.setDaemon(True)\n",
    "print(\"Main: launch Thread\")\n",
    "thread.start()\n",
    "# print('Main: Waiting for thread to finish')\n",
    "# thread.join()\n",
    "print('Main: finished')"
   ]
  }
 ],
 "metadata": {
  "kernelspec": {
   "display_name": "Python 3",
   "language": "python",
   "name": "python3"
  },
  "language_info": {
   "codemirror_mode": {
    "name": "ipython",
    "version": 3
   },
   "file_extension": ".py",
   "mimetype": "text/x-python",
   "name": "python",
   "nbconvert_exporter": "python",
   "pygments_lexer": "ipython3",
   "version": "3.7.1"
  }
 },
 "nbformat": 4,
 "nbformat_minor": 2
}
