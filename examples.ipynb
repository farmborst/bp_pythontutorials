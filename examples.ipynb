{
 "cells": [
  {
   "cell_type": "code",
   "execution_count": 11,
   "metadata": {},
   "outputs": [],
   "source": [
    "def fun(x):\n",
    "    x += 1\n",
    "    print(x)\n",
    "    return"
   ]
  },
  {
   "cell_type": "code",
   "execution_count": 12,
   "metadata": {},
   "outputs": [
    {
     "name": "stdout",
     "output_type": "stream",
     "text": [
      "2 2\n",
      "<class 'int'> <class 'numpy.ndarray'>\n",
      "3\n",
      "3\n",
      "2 3\n",
      "<class 'int'> <class 'numpy.ndarray'>\n"
     ]
    }
   ],
   "source": [
    "import numpy as np\n",
    "\n",
    "\n",
    "a = int(2)       # immutable\n",
    "b = np.array(2)  # mutable\n",
    "\n",
    "\n",
    "print(a, b)\n",
    "print(type(a), type(b))\n",
    "\n",
    "\n",
    "fun(a)\n",
    "fun(b)\n",
    "\n",
    "\n",
    "print(a, b)\n",
    "print(type(a), type(b))\n"
   ]
  },
  {
   "cell_type": "code",
   "execution_count": 15,
   "metadata": {},
   "outputs": [
    {
     "name": "stdout",
     "output_type": "stream",
     "text": [
      "[1] []\n",
      "[1] [1]\n"
     ]
    }
   ],
   "source": [
    "class test:\n",
    "    pass\n",
    "\n",
    "c = test()\n",
    "c.twiss = list()\n",
    "twiss = c.twiss\n",
    "c.twiss = c.twiss + [1]\n",
    "print(c.twiss, twiss)\n",
    "\n",
    "c = test()\n",
    "c.twiss = list()\n",
    "twiss = c.twiss\n",
    "c.twiss.extend([1])\n",
    "print(c.twiss, twiss)"
   ]
  }
 ],
 "metadata": {
  "kernelspec": {
   "display_name": "Python 3.6.8",
   "language": "python",
   "name": "python3.6.8"
  },
  "language_info": {
   "codemirror_mode": {
    "name": "ipython",
    "version": 3
   },
   "file_extension": ".py",
   "mimetype": "text/x-python",
   "name": "python",
   "nbconvert_exporter": "python",
   "pygments_lexer": "ipython3",
   "version": "3.6.8"
  }
 },
 "nbformat": 4,
 "nbformat_minor": 2
}
